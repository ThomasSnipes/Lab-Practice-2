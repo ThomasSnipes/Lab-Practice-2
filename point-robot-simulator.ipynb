{
 "cells": [
  {
   "cell_type": "code",
   "execution_count": 7,
   "metadata": {
    "ExecuteTime": {
     "end_time": "2024-01-28T18:06:39.982314580Z",
     "start_time": "2024-01-28T18:06:39.936154441Z"
    }
   },
   "outputs": [
    {
     "name": "stdout",
     "output_type": "stream",
     "text": [
      "Populating the interactive namespace from numpy and matplotlib\n"
     ]
    }
   ],
   "source": [
    "%pylab inline\n",
    "import numpy as np"
   ]
  },
  {
   "cell_type": "markdown",
   "metadata": {},
   "source": [
    "# Building a Robot Simulator in 2D\n",
    "\n",
    " Our robot can observe the world and itself using sensors. In this case, we assume that the robot can sense its location, so at any time step, the sensor reading $\\boldsymbol{y}(t)$ measures the robot location $\\boldsymbol{y}(t)=\\boldsymbol{p}(t)$."
   ]
  },
  {
   "cell_type": "code",
   "execution_count": 8,
   "metadata": {
    "ExecuteTime": {
     "end_time": "2024-01-28T18:06:41.688533023Z",
     "start_time": "2024-01-28T18:06:41.681200180Z"
    }
   },
   "outputs": [],
   "source": [
    "# Perfect sensor\n",
    "def sense(x):\n",
    "    return x"
   ]
  },
  {
   "cell_type": "markdown",
   "metadata": {},
   "source": [
    "### Euler integration\n",
    "The dynamics of the robot assume that the robot control input alters the robot velocity, which is the derivative of the state vector, i.e.,\n",
    "$$\n",
    "\\dot{\\boldsymbol{x}} = \\boldsymbol{u}\n",
    "$$"
   ]
  },
  {
   "cell_type": "code",
   "execution_count": 9,
   "metadata": {
    "ExecuteTime": {
     "end_time": "2024-01-28T18:06:42.766489520Z",
     "start_time": "2024-01-28T18:06:42.744109071Z"
    }
   },
   "outputs": [],
   "source": [
    "def simulate(Δt, x, u):\n",
    "    # The control input is equal to the velocity of the robot\n",
    "    dx = array(u)\n",
    "    \n",
    "    # Euler integration\n",
    "    x += Δt * dx\n",
    "    return x"
   ]
  },
  {
   "cell_type": "markdown",
   "metadata": {},
   "source": [
    "### Controller for One Target"
   ]
  },
  {
   "cell_type": "code",
   "execution_count": 10,
   "metadata": {},
   "outputs": [],
   "source": [
    "def control_1(t, p):\n",
    "    \n",
    "    ux = 0.0\n",
    "    uy = 0.0\n",
    "  \n",
    "    ux = 3-p[0]\n",
    "    uy = 3-p[1]\n",
    "   \n",
    "    return array([ux, uy])"
   ]
  },
  {
   "cell_type": "markdown",
   "metadata": {},
   "source": [
    "### Run Simulator for One Target"
   ]
  },
  {
   "cell_type": "code",
   "execution_count": 11,
   "metadata": {},
   "outputs": [],
   "source": [
    "tf = 15.\n",
    "Δt = 0.1    # Time step\n",
    "time = linspace(0.,tf, int(tf / Δt) + 1)  # Time interval\n",
    "\n",
    "# Initial conditions\n",
    "x = array([1., 2.])\n",
    "x_log = [copy(x)]\n",
    "\n",
    "for t in time:\n",
    "    p = sense(x)\n",
    "    u = control_1(t, p)\n",
    "    x = simulate(Δt, x, u)\n",
    "    x_log.append(copy(x))\n",
    "    \n",
    "x_log = array(x_log)"
   ]
  },
  {
   "cell_type": "markdown",
   "metadata": {},
   "source": [
    "### Controller for Multiple Targets"
   ]
  },
  {
   "cell_type": "code",
   "execution_count": 70,
   "metadata": {
    "ExecuteTime": {
     "end_time": "2024-01-28T18:06:43.769883644Z",
     "start_time": "2024-01-28T18:06:43.768049893Z"
    }
   },
   "outputs": [],
   "source": [
    "def control_2(t, p):\n",
    "    \n",
    "    targets = ([-2.9,2.9], [3.,-3.], [3.,3.], [0.,0.])\n",
    "    K = 1\n",
    "    \n",
    "    ux = 0.0\n",
    "    uy = 0.0\n",
    "    \n",
    "    if t < 3:\n",
    "        ux = K*(targets[0][0]-p[0])\n",
    "        uy = K*(targets[0][1]-p[1])\n",
    "    elif t >= 3 and t < 6:\n",
    "        ux = K*(targets[1][0]-p[0])\n",
    "        uy = K*(targets[1][1]-p[1])\n",
    "    elif t >=6 and t < 9:\n",
    "        ux = K*(targets[2][0]-p[0])\n",
    "        uy = K*(targets[2][1]-p[1])\n",
    "    else:\n",
    "        ux = K*(targets[3][0]-p[0])\n",
    "        uy = K*(targets[3][1]-p[1])\n",
    "        \n",
    "    return array([ux, uy])"
   ]
  },
  {
   "cell_type": "markdown",
   "metadata": {},
   "source": [
    "### Run Simulator for Multiple Targets"
   ]
  },
  {
   "cell_type": "code",
   "execution_count": 71,
   "metadata": {
    "ExecuteTime": {
     "end_time": "2024-01-28T18:06:44.779604106Z",
     "start_time": "2024-01-28T18:06:44.775556740Z"
    }
   },
   "outputs": [],
   "source": [
    "tf = 15.\n",
    "Δt = 0.1    # Time step\n",
    "time = linspace(0.,tf, int(tf / Δt) + 1)  # Time interval\n",
    "\n",
    "# Initial conditions\n",
    "x = array([-3., -3.])\n",
    "x_log = [copy(x)]\n",
    "\n",
    "for t in time:\n",
    "    p = sense(x)\n",
    "    u = control(t, p)\n",
    "    x = simulate(Δt, x, u)\n",
    "    x_log.append(copy(x))\n",
    "    \n",
    "x_log = array(x_log)"
   ]
  },
  {
   "cell_type": "code",
   "execution_count": 12,
   "metadata": {
    "ExecuteTime": {
     "end_time": "2024-01-28T18:06:45.452677675Z",
     "start_time": "2024-01-28T18:06:45.325503588Z"
    }
   },
   "outputs": [
    {
     "data": {
      "image/png": "[encoded data removed]",
      "text/plain": [
       "<Figure size 640x480 with 1 Axes>"
      ]
     },
     "metadata": {},
     "output_type": "display_data"
    }
   ],
   "source": [
    "# Draw the robot path based on the log of the state vector\n",
    "fig, ax = plt.subplots()\n",
    "ax.plot(x_log[:,0], x_log[:,1], 'r--')\n",
    "ax.set(title=\"Robot Path\", xlabel=\"$x$\", ylabel=\"$x$\")\n",
    "ax.grid()"
   ]
  },
  {
   "cell_type": "code",
   "execution_count": 5,
   "metadata": {
    "ExecuteTime": {
     "end_time": "2024-01-28T18:06:48.853487983Z",
     "start_time": "2024-01-28T18:06:46.986556736Z"
    }
   },
   "outputs": [
    {
     "ename": "NameError",
     "evalue": "name 'time' is not defined",
     "output_type": "error",
     "traceback": [
      "\u001b[0;31m---------------------------------------------------------------------------\u001b[0m",
      "\u001b[0;31mNameError\u001b[0m                                 Traceback (most recent call last)",
      "\u001b[0;32m/var/folders/yg/7thfry3j7sxgr7ncw1816cc40000gn/T/ipykernel_43016/969359494.py\u001b[0m in \u001b[0;36m<module>\u001b[0;34m\u001b[0m\n\u001b[1;32m     19\u001b[0m \u001b[0;34m\u001b[0m\u001b[0m\n\u001b[1;32m     20\u001b[0m \u001b[0;34m\u001b[0m\u001b[0m\n\u001b[0;32m---> 21\u001b[0;31m \u001b[0manim\u001b[0m \u001b[0;34m=\u001b[0m \u001b[0manimation\u001b[0m\u001b[0;34m.\u001b[0m\u001b[0mFuncAnimation\u001b[0m\u001b[0;34m(\u001b[0m\u001b[0mfig\u001b[0m\u001b[0;34m,\u001b[0m \u001b[0manimate\u001b[0m\u001b[0;34m,\u001b[0m \u001b[0mframes\u001b[0m\u001b[0;34m=\u001b[0m\u001b[0mlen\u001b[0m\u001b[0;34m(\u001b[0m\u001b[0mtime\u001b[0m\u001b[0;34m)\u001b[0m\u001b[0;34m,\u001b[0m \u001b[0minterval\u001b[0m\u001b[0;34m=\u001b[0m\u001b[0;36m60\u001b[0m\u001b[0;34m)\u001b[0m\u001b[0;34m\u001b[0m\u001b[0;34m\u001b[0m\u001b[0m\n\u001b[0m\u001b[1;32m     22\u001b[0m \u001b[0;34m\u001b[0m\u001b[0m\n\u001b[1;32m     23\u001b[0m \u001b[0mHTML\u001b[0m\u001b[0;34m(\u001b[0m\u001b[0manim\u001b[0m\u001b[0;34m.\u001b[0m\u001b[0mto_jshtml\u001b[0m\u001b[0;34m(\u001b[0m\u001b[0;34m)\u001b[0m\u001b[0;34m)\u001b[0m\u001b[0;34m\u001b[0m\u001b[0;34m\u001b[0m\u001b[0m\n",
      "\u001b[0;31mNameError\u001b[0m: name 'time' is not defined"
     ]
    },
    {
     "data": {
      "image/png": "[encoded data removed]",
      "text/plain": [
       "<Figure size 640x480 with 1 Axes>"
      ]
     },
     "metadata": {},
     "output_type": "display_data"
    }
   ],
   "source": [
    "import matplotlib.pyplot as plt\n",
    "from matplotlib import animation\n",
    "from JSAnimation import IPython_display    \n",
    "from IPython.display import HTML\n",
    "    \n",
    "\n",
    "\n",
    "fig, ax = plt.subplots()\n",
    "\n",
    "def animate(t):\n",
    "    ax.clear()\n",
    "    \n",
    "    # Path\n",
    "    plot(x_log[:,0], x_log[:,1], 'r--')\n",
    "    \n",
    "    # Initial conditions\n",
    "    plot(x_log[t,0], x_log[t,1], 'bo')\n",
    "    \n",
    "    \n",
    "\n",
    "anim = animation.FuncAnimation(fig, animate, frames=len(time), interval=60)\n",
    "\n",
    "HTML(anim.to_jshtml())"
   ]
  },
  {
   "cell_type": "code",
   "execution_count": null,
   "metadata": {},
   "outputs": [],
   "source": []
  }
 ],
 "metadata": {
  "kernelspec": {
   "display_name": "Python 3 (ipykernel)",
   "language": "python",
   "name": "python3"
  },
  "language_info": {
   "codemirror_mode": {
    "name": "ipython",
    "version": 3
   },
   "file_extension": ".py",
   "mimetype": "text/x-python",
   "name": "python",
   "nbconvert_exporter": "python",
   "pygments_lexer": "ipython3",
   "version": "3.9.13"
  }
 },
 "nbformat": 4,
 "nbformat_minor": 4
}
